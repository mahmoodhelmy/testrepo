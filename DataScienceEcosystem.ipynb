{
 "cells": [
  {
   "cell_type": "markdown",
   "id": "0570588c",
   "metadata": {},
   "source": [
    "# DataScienceEcosystem\n"
   ]
  },
  {
   "cell_type": "markdown",
   "id": "4bad0164",
   "metadata": {},
   "source": [
    "## In this notebook, Data Science Tools and Ecosystem are summarized."
   ]
  },
  {
   "cell_type": "markdown",
   "id": "671cc0f3",
   "metadata": {},
   "source": [
    "##### Objectives:\n",
    "- List popular languages for Data Science.\n",
    "- List popular Libraries used in Data Science.\n",
    "- List popular tools for Data Science."
   ]
  },
  {
   "cell_type": "markdown",
   "id": "84fec366",
   "metadata": {},
   "source": [
    "### Some of the popular languages that Data Scientists use are:\n",
    "1. Python\n",
    "2. R\n",
    "3. Scala"
   ]
  },
  {
   "cell_type": "markdown",
   "id": "82f4ce50",
   "metadata": {},
   "source": [
    "### Some of the commonly used libraries used by Data Scientists include:\n",
    "1. pandas\n",
    "2. Numpy\n",
    "3. Tensorflow\n",
    "4. GGplota"
   ]
  },
  {
   "cell_type": "markdown",
   "id": "38be58ec",
   "metadata": {},
   "source": [
    "### Data Science Tools:\n",
    "- Jupytar Lab\n",
    "- Jupyter Notebooks\n",
    "- IBM watson studio\n"
   ]
  },
  {
   "cell_type": "markdown",
   "id": "b8d2487a",
   "metadata": {},
   "source": [
    "### Below are a few examples of evaluating arithmetic expressions in Python.\n"
   ]
  },
  {
   "cell_type": "code",
   "execution_count": 3,
   "id": "eb279fac",
   "metadata": {},
   "outputs": [
    {
     "data": {
      "text/plain": [
       "17"
      ]
     },
     "execution_count": 3,
     "metadata": {},
     "output_type": "execute_result"
    }
   ],
   "source": [
    "(3*4)+5\n"
   ]
  },
  {
   "cell_type": "markdown",
   "id": "40d5d56c",
   "metadata": {},
   "source": [
    "#### This a simple arithmetic expression to mutiply then add integers"
   ]
  },
  {
   "cell_type": "markdown",
   "id": "62c08be9",
   "metadata": {},
   "source": [
    "### This will convert 200 minutes to hours by diving by 60"
   ]
  },
  {
   "cell_type": "code",
   "execution_count": 5,
   "id": "aaaa4d26",
   "metadata": {},
   "outputs": [
    {
     "data": {
      "text/plain": [
       "3.3333333333333335"
      ]
     },
     "execution_count": 5,
     "metadata": {},
     "output_type": "execute_result"
    }
   ],
   "source": [
    "200/60"
   ]
  },
  {
   "cell_type": "markdown",
   "id": "cd6d7107",
   "metadata": {},
   "source": [
    "## Author\n",
    "Mahmoud Helmy Sayed"
   ]
  },
  {
   "cell_type": "code",
   "execution_count": null,
   "id": "c98b26a9",
   "metadata": {},
   "outputs": [],
   "source": []
  }
 ],
 "metadata": {
  "kernelspec": {
   "display_name": "Python 3 (ipykernel)",
   "language": "python",
   "name": "python3"
  },
  "language_info": {
   "codemirror_mode": {
    "name": "ipython",
    "version": 3
   },
   "file_extension": ".py",
   "mimetype": "text/x-python",
   "name": "python",
   "nbconvert_exporter": "python",
   "pygments_lexer": "ipython3",
   "version": "3.11.4"
  }
 },
 "nbformat": 4,
 "nbformat_minor": 5
}
